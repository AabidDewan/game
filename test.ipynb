{
 "cells": [
  {
   "cell_type": "code",
   "execution_count": 1,
   "metadata": {},
   "outputs": [],
   "source": [
    "from Human import Human\n",
    "import unittest"
   ]
  },
  {
   "cell_type": "code",
   "execution_count": 2,
   "metadata": {},
   "outputs": [
    {
     "name": "stdout",
     "output_type": "stream",
     "text": [
      "My name is aabid\n",
      "My age is 20\n",
      "I am a male\n",
      "Health: 100\n",
      "Speed: 50\n",
      "Strength: 50\n",
      "Durability: 50\n",
      "Ability: None\n",
      "\n",
      "My name is Bob\n",
      "My age is 20\n",
      "I am a male\n",
      "Health: 60\n",
      "Speed: 100\n",
      "Strength: 50\n",
      "Durability: 50\n",
      "Ability: Super Speed\n",
      "\n",
      "My name is John\n",
      "Added 2 Potion(s) to inventory.\n",
      "Added 1 Sword(s) to inventory.\n",
      "Potion: 2\n",
      "Sword: 1\n",
      "Removed 1 Potion(s) from inventory.\n",
      "Potion: 1\n",
      "Sword: 1\n"
     ]
    }
   ],
   "source": [
    "#Allows the user to create their own character\n",
    "Hero = Human(input(\"What would you like to be called?\"), int(input(\"How old are you?\")), int(input(\"Are you a male or female?\\nType 1 for Male\\nType 2 for female \")), 100, 50, 50, 50, \"None\")\n",
    "Hero.name()\n",
    "Hero.age()\n",
    "Hero.gender()\n",
    "Hero.health()\n",
    "Hero.speed()\n",
    "Hero.strength()\n",
    "Hero.durability()\n",
    "Hero.ability()\n",
    "\n",
    "print(\"\")\n",
    "\n",
    "\n",
    "FirstBoss = Human(\"Bob\", 20, 1, 60, 100, 50, 50, \"Super Speed\")\n",
    "FirstBoss.name()\n",
    "FirstBoss.age()\n",
    "FirstBoss.gender()\n",
    "FirstBoss.health()\n",
    "FirstBoss.speed()\n",
    "FirstBoss.strength()\n",
    "FirstBoss.durability()\n",
    "FirstBoss.ability()\n",
    "\n",
    "print(\"\")\n",
    "\n",
    "# Example usage of inventory\n",
    "hero = Human(\"John\", 25, 1, 100, 50, 50, 50, \"None\")\n",
    "hero.name()\n",
    "hero.add_to_inventory(\"Potion\", 2)\n",
    "hero.add_to_inventory(\"Sword\")\n",
    "hero.list_inventory()\n",
    "hero.remove_from_inventory(\"Potion\", 1)\n",
    "hero.list_inventory()\n",
    "\n"
   ]
  },
  {
   "cell_type": "code",
   "execution_count": 3,
   "metadata": {},
   "outputs": [
    {
     "name": "stderr",
     "output_type": "stream",
     "text": [
      "...\n",
      "----------------------------------------------------------------------\n",
      "Ran 3 tests in 0.003s\n",
      "\n",
      "OK\n"
     ]
    },
    {
     "name": "stdout",
     "output_type": "stream",
     "text": [
      "Added 2 Potion(s) to inventory.\n",
      "Added 3 Potion(s) to inventory.\n",
      "Added 3 Potion(s) to inventory.\n",
      "Added 1 Sword(s) to inventory.\n",
      "Added 5 Potion(s) to inventory.\n",
      "Added 1 Sword(s) to inventory.\n",
      "Removed 2 Potion(s) from inventory.\n",
      "Removed Potion from inventory.\n",
      "Removed Sword from inventory.\n"
     ]
    },
    {
     "data": {
      "text/plain": [
       "<unittest.main.TestProgram at 0x1067e5400>"
      ]
     },
     "execution_count": 3,
     "metadata": {},
     "output_type": "execute_result"
    }
   ],
   "source": [
    "import unittest\n",
    "from Human import Human\n",
    "\n",
    "class TestHuman(unittest.TestCase):\n",
    "    def setUp(self):\n",
    "        # Create a Human instance for testing\n",
    "        self.human = Human(\"Alice\", 25, 2, 100, 50, 50, 50, \"None\")\n",
    "    \n",
    "    def test_add_inventory(self):\n",
    "        # Test that adding items updates the inventory correctly\n",
    "        self.human.add_to_inventory(\"Potion\", 2)\n",
    "        self.assertEqual(self.human.inventory, {\"Potion\": 2})\n",
    "        \n",
    "        # Add the same item again\n",
    "        self.human.add_to_inventory(\"Potion\", 3)\n",
    "        self.assertEqual(self.human.inventory, {\"Potion\": 5})\n",
    "    \n",
    "    def test_remove_inventory(self):\n",
    "        # First add some items\n",
    "        self.human.add_to_inventory(\"Potion\", 5)\n",
    "        self.human.add_to_inventory(\"Sword\", 1)\n",
    "        \n",
    "        # Remove part of an item\n",
    "        self.human.remove_from_inventory(\"Potion\", 2)\n",
    "        self.assertEqual(self.human.inventory, {\"Potion\": 3, \"Sword\": 1})\n",
    "        \n",
    "        # Remove the remaining quantity\n",
    "        self.human.remove_from_inventory(\"Potion\", 3)\n",
    "        self.assertEqual(self.human.inventory, {\"Sword\": 1})\n",
    "        \n",
    "        # Remove an item completely by not specifying a quantity\n",
    "        self.human.remove_from_inventory(\"Sword\")\n",
    "        self.assertEqual(self.human.inventory, {})\n",
    "    \n",
    "    def test_list_inventory_state(self):\n",
    "        # Instead of testing the printed output, check the state\n",
    "        # When no items have been added\n",
    "        self.assertEqual(self.human.inventory, {})\n",
    "        \n",
    "        # After adding items\n",
    "        self.human.add_to_inventory(\"Potion\", 3)\n",
    "        self.human.add_to_inventory(\"Sword\", 1)\n",
    "        self.assertEqual(self.human.inventory, {\"Potion\": 3, \"Sword\": 1})\n",
    "\n",
    "unittest.main(argv=[''], exit=False)\n",
    "\n",
    "\n",
    "\n",
    "\n",
    "\n",
    "\n"
   ]
  }
 ],
 "metadata": {
  "kernelspec": {
   "display_name": "Python 3",
   "language": "python",
   "name": "python3"
  },
  "language_info": {
   "codemirror_mode": {
    "name": "ipython",
    "version": 3
   },
   "file_extension": ".py",
   "mimetype": "text/x-python",
   "name": "python",
   "nbconvert_exporter": "python",
   "pygments_lexer": "ipython3",
   "version": "3.13.1"
  }
 },
 "nbformat": 4,
 "nbformat_minor": 2
}
