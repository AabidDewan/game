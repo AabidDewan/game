{
 "cells": [
  {
   "cell_type": "code",
   "execution_count": 2,
   "metadata": {},
   "outputs": [],
   "source": [
    "from Human import Human"
   ]
  },
  {
   "cell_type": "code",
   "execution_count": 7,
   "metadata": {},
   "outputs": [
    {
     "name": "stdout",
     "output_type": "stream",
     "text": [
      "My name is Aabid\n",
      "My age is 20\n",
      "I am a male\n",
      "Health: 100\n",
      "speed: 50\n",
      "Strength: 50\n",
      "Durability: 50\n",
      "Ability: None\n",
      "\n",
      "My name is Bob\n",
      "My age is 20\n",
      "I am a male\n",
      "Health: 60\n",
      "speed: 100\n",
      "Strength: 50\n",
      "Durability: 50\n",
      "Ability: Super Speed\n",
      "I am a male\n"
     ]
    }
   ],
   "source": [
    "Hero = Human(input(\"What would you like to be called?\"), int(input(\"How old are you?\")), int(input(\"Are you a male or female?\\nType 1 for Male\\nType 2 for female \")), 100, 50, 50, 50, \"None\")\n",
    "Hero.name()\n",
    "Hero.age()\n",
    "Hero.gender()\n",
    "Hero.health()\n",
    "Hero.speed()\n",
    "Hero.strength()\n",
    "Hero.durability()\n",
    "Hero.ability()\n",
    "\n",
    "print(\"\")\n",
    "\n",
    "FirstBoss = Human(\"Bob\", 20, 1, 60, 100, 50, 50, \"Super Speed\")\n",
    "FirstBoss.name()\n",
    "FirstBoss.age()\n",
    "FirstBoss.gender()\n",
    "FirstBoss.health()\n",
    "FirstBoss.speed()\n",
    "FirstBoss.strength()\n",
    "FirstBoss.durability()\n",
    "FirstBoss.ability()\n",
    "\n"
   ]
  },
  {
   "cell_type": "code",
   "execution_count": null,
   "metadata": {},
   "outputs": [],
   "source": []
  }
 ],
 "metadata": {
  "kernelspec": {
   "display_name": "Python 3",
   "language": "python",
   "name": "python3"
  },
  "language_info": {
   "codemirror_mode": {
    "name": "ipython",
    "version": 3
   },
   "file_extension": ".py",
   "mimetype": "text/x-python",
   "name": "python",
   "nbconvert_exporter": "python",
   "pygments_lexer": "ipython3",
   "version": "3.13.1"
  }
 },
 "nbformat": 4,
 "nbformat_minor": 2
}
